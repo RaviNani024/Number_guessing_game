{
 "cells": [
  {
   "cell_type": "code",
   "execution_count": null,
   "id": "bed4ed4e",
   "metadata": {},
   "outputs": [],
   "source": [
    "import random\n",
    "lower_bound=int(input(\"Enter lower bound:\"))\n",
    "upper_bound=int(input(\"Enter upper bound:\"))\n",
    "guess_number=random.randint(lower_bound,upper_bound)\n",
    "total_guesses=0\n",
    "while total_guesses < 7 :\n",
    "    n=int(input(\"guess the number:\"))\n",
    "    total_guesses += 1\n",
    "    if n == guess_number :\n",
    "        print(f\"You guessed the number in {total_guesses} turns\")\n",
    "        break\n",
    "    elif n > guess_number :\n",
    "        print(\"You guessed high\")\n",
    "    else:\n",
    "        print(\"You guessed low\")"
   ]
  },
  {
   "cell_type": "code",
   "execution_count": null,
   "id": "38e5292b",
   "metadata": {},
   "outputs": [],
   "source": []
  }
 ],
 "metadata": {
  "kernelspec": {
   "display_name": "Python 3 (ipykernel)",
   "language": "python",
   "name": "python3"
  },
  "language_info": {
   "codemirror_mode": {
    "name": "ipython",
    "version": 3
   },
   "file_extension": ".py",
   "mimetype": "text/x-python",
   "name": "python",
   "nbconvert_exporter": "python",
   "pygments_lexer": "ipython3",
   "version": "3.11.4"
  }
 },
 "nbformat": 4,
 "nbformat_minor": 5
}
